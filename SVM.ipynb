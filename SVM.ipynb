{
 "cells": [
  {
   "cell_type": "code",
   "execution_count": 2,
   "metadata": {},
   "outputs": [],
   "source": [
    "import numpy  as np\n",
    "import matplotlib.pyplot as plt\n",
    "import pandas as pd \n",
    "from sklearn import preprocessing\n",
    "from sklearn.model_selection import train_test_split\n",
    "from sklearn.tree import DecisionTreeClassifier\n",
    "from sklearn import metrics\n",
    "import scipy.optimize as opt\n",
    "\n",
    "%matplotlib inline"
   ]
  },
  {
   "cell_type": "code",
   "execution_count": 3,
   "metadata": {},
   "outputs": [
    {
     "data": {
      "text/html": [
       "<div>\n",
       "<style scoped>\n",
       "    .dataframe tbody tr th:only-of-type {\n",
       "        vertical-align: middle;\n",
       "    }\n",
       "\n",
       "    .dataframe tbody tr th {\n",
       "        vertical-align: top;\n",
       "    }\n",
       "\n",
       "    .dataframe thead th {\n",
       "        text-align: right;\n",
       "    }\n",
       "</style>\n",
       "<table border=\"1\" class=\"dataframe\">\n",
       "  <thead>\n",
       "    <tr style=\"text-align: right;\">\n",
       "      <th></th>\n",
       "      <th>Unnamed: 0</th>\n",
       "      <th>id</th>\n",
       "      <th>is_success</th>\n",
       "      <th>error_text</th>\n",
       "      <th>status_code</th>\n",
       "      <th>load_time_ms</th>\n",
       "      <th>failed_requests</th>\n",
       "      <th>long_ttfb_resources</th>\n",
       "      <th>navigation_type</th>\n",
       "      <th>connect_start</th>\n",
       "      <th>...</th>\n",
       "      <th>redirect_end</th>\n",
       "      <th>connect_end</th>\n",
       "      <th>host_id</th>\n",
       "      <th>created_at</th>\n",
       "      <th>updated_at</th>\n",
       "      <th>current_time_utc</th>\n",
       "      <th>navigate_count</th>\n",
       "      <th>reload_count</th>\n",
       "      <th>load_time_ms_avg</th>\n",
       "      <th>label</th>\n",
       "    </tr>\n",
       "  </thead>\n",
       "  <tbody>\n",
       "    <tr>\n",
       "      <th>0</th>\n",
       "      <td>0</td>\n",
       "      <td>2132583</td>\n",
       "      <td>True</td>\n",
       "      <td>NaN</td>\n",
       "      <td>200</td>\n",
       "      <td>22992.0</td>\n",
       "      <td>['https://pagead2.googlesyndication.com/tag/js...</td>\n",
       "      <td>[{'url': 'https://weather.com/api/v1/script/Tr...</td>\n",
       "      <td>navigate</td>\n",
       "      <td>1.701496e+12</td>\n",
       "      <td>...</td>\n",
       "      <td>0.0</td>\n",
       "      <td>1.701496e+12</td>\n",
       "      <td>106</td>\n",
       "      <td>2023-12-02 05:40:33.785413+00:00</td>\n",
       "      <td>NaN</td>\n",
       "      <td>2023-12-02 10:40:30.054676+00:00</td>\n",
       "      <td>579</td>\n",
       "      <td>0</td>\n",
       "      <td>20941.908463</td>\n",
       "      <td>same</td>\n",
       "    </tr>\n",
       "    <tr>\n",
       "      <th>1</th>\n",
       "      <td>1</td>\n",
       "      <td>2132584</td>\n",
       "      <td>True</td>\n",
       "      <td>NaN</td>\n",
       "      <td>200</td>\n",
       "      <td>15224.0</td>\n",
       "      <td>[]</td>\n",
       "      <td>[]</td>\n",
       "      <td>navigate</td>\n",
       "      <td>1.701496e+12</td>\n",
       "      <td>...</td>\n",
       "      <td>0.0</td>\n",
       "      <td>1.701496e+12</td>\n",
       "      <td>91</td>\n",
       "      <td>2023-12-02 05:40:33.785413+00:00</td>\n",
       "      <td>NaN</td>\n",
       "      <td>2023-12-02 10:40:30.054676+00:00</td>\n",
       "      <td>599</td>\n",
       "      <td>0</td>\n",
       "      <td>14972.684474</td>\n",
       "      <td>same</td>\n",
       "    </tr>\n",
       "    <tr>\n",
       "      <th>2</th>\n",
       "      <td>2</td>\n",
       "      <td>2132580</td>\n",
       "      <td>True</td>\n",
       "      <td>NaN</td>\n",
       "      <td>200</td>\n",
       "      <td>15183.0</td>\n",
       "      <td>[]</td>\n",
       "      <td>[{'url': 'https://hamyarwp.com/wp-content/them...</td>\n",
       "      <td>navigate</td>\n",
       "      <td>1.701496e+12</td>\n",
       "      <td>...</td>\n",
       "      <td>0.0</td>\n",
       "      <td>1.701496e+12</td>\n",
       "      <td>76</td>\n",
       "      <td>2023-12-02 05:40:33.785413+00:00</td>\n",
       "      <td>NaN</td>\n",
       "      <td>2023-12-02 10:40:30.054676+00:00</td>\n",
       "      <td>600</td>\n",
       "      <td>0</td>\n",
       "      <td>15302.536667</td>\n",
       "      <td>same</td>\n",
       "    </tr>\n",
       "    <tr>\n",
       "      <th>3</th>\n",
       "      <td>3</td>\n",
       "      <td>2132582</td>\n",
       "      <td>True</td>\n",
       "      <td>NaN</td>\n",
       "      <td>200</td>\n",
       "      <td>15051.0</td>\n",
       "      <td>[]</td>\n",
       "      <td>[{'url': 'https://avval.ir/css/vendor.min.css?...</td>\n",
       "      <td>navigate</td>\n",
       "      <td>1.701496e+12</td>\n",
       "      <td>...</td>\n",
       "      <td>0.0</td>\n",
       "      <td>1.701496e+12</td>\n",
       "      <td>96</td>\n",
       "      <td>2023-12-02 05:40:33.785413+00:00</td>\n",
       "      <td>NaN</td>\n",
       "      <td>2023-12-02 10:40:30.054676+00:00</td>\n",
       "      <td>573</td>\n",
       "      <td>0</td>\n",
       "      <td>15615.558464</td>\n",
       "      <td>same</td>\n",
       "    </tr>\n",
       "    <tr>\n",
       "      <th>4</th>\n",
       "      <td>4</td>\n",
       "      <td>2132585</td>\n",
       "      <td>True</td>\n",
       "      <td>NaN</td>\n",
       "      <td>200</td>\n",
       "      <td>9368.0</td>\n",
       "      <td>[]</td>\n",
       "      <td>[{'url': 'https://sariasan.com/wp-content/plug...</td>\n",
       "      <td>navigate</td>\n",
       "      <td>1.701496e+12</td>\n",
       "      <td>...</td>\n",
       "      <td>0.0</td>\n",
       "      <td>1.701496e+12</td>\n",
       "      <td>89</td>\n",
       "      <td>2023-12-02 05:40:33.785413+00:00</td>\n",
       "      <td>NaN</td>\n",
       "      <td>2023-12-02 10:40:30.054676+00:00</td>\n",
       "      <td>600</td>\n",
       "      <td>0</td>\n",
       "      <td>9273.728333</td>\n",
       "      <td>same</td>\n",
       "    </tr>\n",
       "  </tbody>\n",
       "</table>\n",
       "<p>5 rows × 38 columns</p>\n",
       "</div>"
      ],
      "text/plain": [
       "   Unnamed: 0       id  is_success  error_text  status_code  load_time_ms  \\\n",
       "0           0  2132583        True         NaN          200       22992.0   \n",
       "1           1  2132584        True         NaN          200       15224.0   \n",
       "2           2  2132580        True         NaN          200       15183.0   \n",
       "3           3  2132582        True         NaN          200       15051.0   \n",
       "4           4  2132585        True         NaN          200        9368.0   \n",
       "\n",
       "                                     failed_requests  \\\n",
       "0  ['https://pagead2.googlesyndication.com/tag/js...   \n",
       "1                                                 []   \n",
       "2                                                 []   \n",
       "3                                                 []   \n",
       "4                                                 []   \n",
       "\n",
       "                                 long_ttfb_resources navigation_type  \\\n",
       "0  [{'url': 'https://weather.com/api/v1/script/Tr...        navigate   \n",
       "1                                                 []        navigate   \n",
       "2  [{'url': 'https://hamyarwp.com/wp-content/them...        navigate   \n",
       "3  [{'url': 'https://avval.ir/css/vendor.min.css?...        navigate   \n",
       "4  [{'url': 'https://sariasan.com/wp-content/plug...        navigate   \n",
       "\n",
       "   connect_start  ...  redirect_end   connect_end  host_id  \\\n",
       "0   1.701496e+12  ...           0.0  1.701496e+12      106   \n",
       "1   1.701496e+12  ...           0.0  1.701496e+12       91   \n",
       "2   1.701496e+12  ...           0.0  1.701496e+12       76   \n",
       "3   1.701496e+12  ...           0.0  1.701496e+12       96   \n",
       "4   1.701496e+12  ...           0.0  1.701496e+12       89   \n",
       "\n",
       "                         created_at  updated_at  \\\n",
       "0  2023-12-02 05:40:33.785413+00:00         NaN   \n",
       "1  2023-12-02 05:40:33.785413+00:00         NaN   \n",
       "2  2023-12-02 05:40:33.785413+00:00         NaN   \n",
       "3  2023-12-02 05:40:33.785413+00:00         NaN   \n",
       "4  2023-12-02 05:40:33.785413+00:00         NaN   \n",
       "\n",
       "                   current_time_utc  navigate_count  reload_count  \\\n",
       "0  2023-12-02 10:40:30.054676+00:00             579             0   \n",
       "1  2023-12-02 10:40:30.054676+00:00             599             0   \n",
       "2  2023-12-02 10:40:30.054676+00:00             600             0   \n",
       "3  2023-12-02 10:40:30.054676+00:00             573             0   \n",
       "4  2023-12-02 10:40:30.054676+00:00             600             0   \n",
       "\n",
       "   load_time_ms_avg  label  \n",
       "0      20941.908463   same  \n",
       "1      14972.684474   same  \n",
       "2      15302.536667   same  \n",
       "3      15615.558464   same  \n",
       "4       9273.728333   same  \n",
       "\n",
       "[5 rows x 38 columns]"
      ]
     },
     "execution_count": 3,
     "metadata": {},
     "output_type": "execute_result"
    }
   ],
   "source": [
    "df = pd.read_csv('df.csv')\n",
    "df.head()"
   ]
  },
  {
   "cell_type": "code",
   "execution_count": 5,
   "metadata": {},
   "outputs": [],
   "source": [
    "X = df[['load_time_ms','connect_start','navigation_start','secure_connection_start', 'fetch_start',\n",
    "       'dom_content_loaded_event_start', 'response_start', 'dom_interactive',\n",
    "       'domain_lookup_end', 'response_end', 'redirect_start', 'request_start',\n",
    "       'unload_event_end', 'unload_event_start', 'dom_loading', 'dom_complete',\n",
    "       'domain_lookup_start', 'load_event_start',\n",
    "       'dom_content_loaded_event_end', 'load_event_end', 'redirect_end',\n",
    "       'connect_end', 'host_id','navigate_count', 'reload_count',\n",
    "       'load_time_ms_avg']].values\n",
    "# X[0:5]"
   ]
  },
  {
   "cell_type": "code",
   "execution_count": 6,
   "metadata": {},
   "outputs": [
    {
     "data": {
      "text/html": [
       "<div>\n",
       "<style scoped>\n",
       "    .dataframe tbody tr th:only-of-type {\n",
       "        vertical-align: middle;\n",
       "    }\n",
       "\n",
       "    .dataframe tbody tr th {\n",
       "        vertical-align: top;\n",
       "    }\n",
       "\n",
       "    .dataframe thead th {\n",
       "        text-align: right;\n",
       "    }\n",
       "</style>\n",
       "<table border=\"1\" class=\"dataframe\">\n",
       "  <thead>\n",
       "    <tr style=\"text-align: right;\">\n",
       "      <th></th>\n",
       "      <th>label</th>\n",
       "    </tr>\n",
       "  </thead>\n",
       "  <tbody>\n",
       "    <tr>\n",
       "      <th>0</th>\n",
       "      <td>same</td>\n",
       "    </tr>\n",
       "    <tr>\n",
       "      <th>1</th>\n",
       "      <td>same</td>\n",
       "    </tr>\n",
       "    <tr>\n",
       "      <th>2</th>\n",
       "      <td>same</td>\n",
       "    </tr>\n",
       "    <tr>\n",
       "      <th>3</th>\n",
       "      <td>same</td>\n",
       "    </tr>\n",
       "    <tr>\n",
       "      <th>4</th>\n",
       "      <td>same</td>\n",
       "    </tr>\n",
       "  </tbody>\n",
       "</table>\n",
       "</div>"
      ],
      "text/plain": [
       "  label\n",
       "0  same\n",
       "1  same\n",
       "2  same\n",
       "3  same\n",
       "4  same"
      ]
     },
     "execution_count": 6,
     "metadata": {},
     "output_type": "execute_result"
    }
   ],
   "source": [
    "y = df[['label']]\n",
    "y[0:5]"
   ]
  },
  {
   "cell_type": "code",
   "execution_count": 7,
   "metadata": {},
   "outputs": [
    {
     "name": "stdout",
     "output_type": "stream",
     "text": [
      "Train set: (49834, 26) (49834, 1)\n",
      "Test set: (12459, 26) (12459, 1)\n"
     ]
    }
   ],
   "source": [
    "X_train , X_test , y_train , y_test = train_test_split(X , y , test_size= 0.2,random_state=40)\n",
    "print(\"Train set:\" , X_train.shape , y_train.shape)\n",
    "print(\"Test set:\" , X_test.shape, y_test.shape)"
   ]
  },
  {
   "cell_type": "code",
   "execution_count": 8,
   "metadata": {},
   "outputs": [
    {
     "name": "stderr",
     "output_type": "stream",
     "text": [
      "c:\\Users\\Arina\\AppData\\Local\\Programs\\Python\\Python311\\Lib\\site-packages\\sklearn\\utils\\validation.py:1184: DataConversionWarning: A column-vector y was passed when a 1d array was expected. Please change the shape of y to (n_samples, ), for example using ravel().\n",
      "  y = column_or_1d(y, warn=True)\n"
     ]
    },
    {
     "data": {
      "text/html": [
       "<style>#sk-container-id-1 {color: black;}#sk-container-id-1 pre{padding: 0;}#sk-container-id-1 div.sk-toggleable {background-color: white;}#sk-container-id-1 label.sk-toggleable__label {cursor: pointer;display: block;width: 100%;margin-bottom: 0;padding: 0.3em;box-sizing: border-box;text-align: center;}#sk-container-id-1 label.sk-toggleable__label-arrow:before {content: \"▸\";float: left;margin-right: 0.25em;color: #696969;}#sk-container-id-1 label.sk-toggleable__label-arrow:hover:before {color: black;}#sk-container-id-1 div.sk-estimator:hover label.sk-toggleable__label-arrow:before {color: black;}#sk-container-id-1 div.sk-toggleable__content {max-height: 0;max-width: 0;overflow: hidden;text-align: left;background-color: #f0f8ff;}#sk-container-id-1 div.sk-toggleable__content pre {margin: 0.2em;color: black;border-radius: 0.25em;background-color: #f0f8ff;}#sk-container-id-1 input.sk-toggleable__control:checked~div.sk-toggleable__content {max-height: 200px;max-width: 100%;overflow: auto;}#sk-container-id-1 input.sk-toggleable__control:checked~label.sk-toggleable__label-arrow:before {content: \"▾\";}#sk-container-id-1 div.sk-estimator input.sk-toggleable__control:checked~label.sk-toggleable__label {background-color: #d4ebff;}#sk-container-id-1 div.sk-label input.sk-toggleable__control:checked~label.sk-toggleable__label {background-color: #d4ebff;}#sk-container-id-1 input.sk-hidden--visually {border: 0;clip: rect(1px 1px 1px 1px);clip: rect(1px, 1px, 1px, 1px);height: 1px;margin: -1px;overflow: hidden;padding: 0;position: absolute;width: 1px;}#sk-container-id-1 div.sk-estimator {font-family: monospace;background-color: #f0f8ff;border: 1px dotted black;border-radius: 0.25em;box-sizing: border-box;margin-bottom: 0.5em;}#sk-container-id-1 div.sk-estimator:hover {background-color: #d4ebff;}#sk-container-id-1 div.sk-parallel-item::after {content: \"\";width: 100%;border-bottom: 1px solid gray;flex-grow: 1;}#sk-container-id-1 div.sk-label:hover label.sk-toggleable__label {background-color: #d4ebff;}#sk-container-id-1 div.sk-serial::before {content: \"\";position: absolute;border-left: 1px solid gray;box-sizing: border-box;top: 0;bottom: 0;left: 50%;z-index: 0;}#sk-container-id-1 div.sk-serial {display: flex;flex-direction: column;align-items: center;background-color: white;padding-right: 0.2em;padding-left: 0.2em;position: relative;}#sk-container-id-1 div.sk-item {position: relative;z-index: 1;}#sk-container-id-1 div.sk-parallel {display: flex;align-items: stretch;justify-content: center;background-color: white;position: relative;}#sk-container-id-1 div.sk-item::before, #sk-container-id-1 div.sk-parallel-item::before {content: \"\";position: absolute;border-left: 1px solid gray;box-sizing: border-box;top: 0;bottom: 0;left: 50%;z-index: -1;}#sk-container-id-1 div.sk-parallel-item {display: flex;flex-direction: column;z-index: 1;position: relative;background-color: white;}#sk-container-id-1 div.sk-parallel-item:first-child::after {align-self: flex-end;width: 50%;}#sk-container-id-1 div.sk-parallel-item:last-child::after {align-self: flex-start;width: 50%;}#sk-container-id-1 div.sk-parallel-item:only-child::after {width: 0;}#sk-container-id-1 div.sk-dashed-wrapped {border: 1px dashed gray;margin: 0 0.4em 0.5em 0.4em;box-sizing: border-box;padding-bottom: 0.4em;background-color: white;}#sk-container-id-1 div.sk-label label {font-family: monospace;font-weight: bold;display: inline-block;line-height: 1.2em;}#sk-container-id-1 div.sk-label-container {text-align: center;}#sk-container-id-1 div.sk-container {/* jupyter's `normalize.less` sets `[hidden] { display: none; }` but bootstrap.min.css set `[hidden] { display: none !important; }` so we also need the `!important` here to be able to override the default hidden behavior on the sphinx rendered scikit-learn.org. See: https://github.com/scikit-learn/scikit-learn/issues/21755 */display: inline-block !important;position: relative;}#sk-container-id-1 div.sk-text-repr-fallback {display: none;}</style><div id=\"sk-container-id-1\" class=\"sk-top-container\"><div class=\"sk-text-repr-fallback\"><pre>SVC()</pre><b>In a Jupyter environment, please rerun this cell to show the HTML representation or trust the notebook. <br />On GitHub, the HTML representation is unable to render, please try loading this page with nbviewer.org.</b></div><div class=\"sk-container\" hidden><div class=\"sk-item\"><div class=\"sk-estimator sk-toggleable\"><input class=\"sk-toggleable__control sk-hidden--visually\" id=\"sk-estimator-id-1\" type=\"checkbox\" checked><label for=\"sk-estimator-id-1\" class=\"sk-toggleable__label sk-toggleable__label-arrow\">SVC</label><div class=\"sk-toggleable__content\"><pre>SVC()</pre></div></div></div></div></div>"
      ],
      "text/plain": [
       "SVC()"
      ]
     },
     "execution_count": 8,
     "metadata": {},
     "output_type": "execute_result"
    }
   ],
   "source": [
    "from sklearn import svm\n",
    "clf = svm.SVC(kernel='rbf')\n",
    "clf.fit(X_train, y_train) "
   ]
  },
  {
   "cell_type": "code",
   "execution_count": 28,
   "metadata": {},
   "outputs": [
    {
     "data": {
      "text/plain": [
       "array(['same', 'same', 'same', 'same', 'same', 'same', 'same', 'same',\n",
       "       'same', 'slow'], dtype=object)"
      ]
     },
     "execution_count": 28,
     "metadata": {},
     "output_type": "execute_result"
    }
   ],
   "source": [
    "yhat = clf.predict(X_test)\n",
    "yhat [0:10]"
   ]
  },
  {
   "cell_type": "code",
   "execution_count": 10,
   "metadata": {},
   "outputs": [],
   "source": [
    "from sklearn.metrics import classification_report, confusion_matrix\n",
    "import itertools"
   ]
  },
  {
   "cell_type": "code",
   "execution_count": 21,
   "metadata": {},
   "outputs": [],
   "source": [
    "def plot_confusion_matrix(cm, classes,\n",
    "                          normalize=False,\n",
    "                          title='Confusion matrix',\n",
    "                          cmap=plt.cm.Blues):\n",
    "    \"\"\"\n",
    "    This function prints and plots the confusion matrix.\n",
    "    Normalization can be applied by setting `normalize=True`.\n",
    "    \"\"\"\n",
    "        if normalize:\n",
    "        cm = cm.astype('float') / cm.sum(axis=1)[:, np.newaxis]\n",
    "        print(\"Normalized confusion matrix\")\n",
    "    else:\n",
    "        print('Confusion matrix, without normalization')\n",
    "\n",
    "    print(cm)\n",
    "\n",
    "    plt.imshow(cm, interpolation='nearest', cmap=cmap)\n",
    "    plt.title(title)\n",
    "    plt.colorbar()\n",
    "    tick_marks = np.arange(len(classes))\n",
    "    plt.xticks(tick_marks, classes, rotation=45)\n",
    "    plt.yticks(tick_marks, classes)\n",
    "\n",
    "    fmt = '.2f' if normalize else 'd'\n",
    "    thresh = cm.max() / 2.\n",
    "    for i, j in itertools.product(range(cm.shape[0]), range(cm.shape[1])):\n",
    "        plt.text(j, i, format(cm[i, j], fmt),\n",
    "                 horizontalalignment=\"center\",\n",
    "                 color=\"white\" if cm[i, j] > thresh else \"black\")\n",
    "\n",
    "    plt.tight_layout()\n",
    "    plt.ylabel('True label')\n",
    "    plt.xlabel('Predicted label')"
   ]
  },
  {
   "cell_type": "code",
   "execution_count": null,
   "metadata": {},
   "outputs": [],
   "source": [
    "def"
   ]
  },
  {
   "cell_type": "code",
   "execution_count": 22,
   "metadata": {},
   "outputs": [
    {
     "ename": "TypeError",
     "evalue": "'<' not supported between instances of 'int' and 'str'",
     "output_type": "error",
     "traceback": [
      "\u001b[1;31m---------------------------------------------------------------------------\u001b[0m",
      "\u001b[1;31mTypeError\u001b[0m                                 Traceback (most recent call last)",
      "\u001b[1;32md:\\Rayka_Company\\Azar\\Work\\ML-Hosseinzade\\SVM.ipynb Cell 11\u001b[0m line \u001b[0;36m1\n\u001b[1;32m----> <a href='vscode-notebook-cell:/d%3A/Rayka_Company/Azar/Work/ML-Hosseinzade/SVM.ipynb#X14sZmlsZQ%3D%3D?line=0'>1</a>\u001b[0m cnf_matrix \u001b[39m=\u001b[39m confusion_matrix(y_test, yhat, labels\u001b[39m=\u001b[39;49m[\u001b[39m2\u001b[39;49m,\u001b[39m4\u001b[39;49m])\n\u001b[0;32m      <a href='vscode-notebook-cell:/d%3A/Rayka_Company/Azar/Work/ML-Hosseinzade/SVM.ipynb#X14sZmlsZQ%3D%3D?line=1'>2</a>\u001b[0m np\u001b[39m.\u001b[39mset_printoptions(precision\u001b[39m=\u001b[39m\u001b[39m2\u001b[39m)\n\u001b[0;32m      <a href='vscode-notebook-cell:/d%3A/Rayka_Company/Azar/Work/ML-Hosseinzade/SVM.ipynb#X14sZmlsZQ%3D%3D?line=3'>4</a>\u001b[0m \u001b[39mprint\u001b[39m (classification_report(y_test, yhat))\n",
      "File \u001b[1;32mc:\\Users\\Arina\\AppData\\Local\\Programs\\Python\\Python311\\Lib\\site-packages\\sklearn\\utils\\_param_validation.py:211\u001b[0m, in \u001b[0;36mvalidate_params.<locals>.decorator.<locals>.wrapper\u001b[1;34m(*args, **kwargs)\u001b[0m\n\u001b[0;32m    205\u001b[0m \u001b[39mtry\u001b[39;00m:\n\u001b[0;32m    206\u001b[0m     \u001b[39mwith\u001b[39;00m config_context(\n\u001b[0;32m    207\u001b[0m         skip_parameter_validation\u001b[39m=\u001b[39m(\n\u001b[0;32m    208\u001b[0m             prefer_skip_nested_validation \u001b[39mor\u001b[39;00m global_skip_validation\n\u001b[0;32m    209\u001b[0m         )\n\u001b[0;32m    210\u001b[0m     ):\n\u001b[1;32m--> 211\u001b[0m         \u001b[39mreturn\u001b[39;00m func(\u001b[39m*\u001b[39;49margs, \u001b[39m*\u001b[39;49m\u001b[39m*\u001b[39;49mkwargs)\n\u001b[0;32m    212\u001b[0m \u001b[39mexcept\u001b[39;00m InvalidParameterError \u001b[39mas\u001b[39;00m e:\n\u001b[0;32m    213\u001b[0m     \u001b[39m# When the function is just a wrapper around an estimator, we allow\u001b[39;00m\n\u001b[0;32m    214\u001b[0m     \u001b[39m# the function to delegate validation to the estimator, but we replace\u001b[39;00m\n\u001b[0;32m    215\u001b[0m     \u001b[39m# the name of the estimator by the name of the function in the error\u001b[39;00m\n\u001b[0;32m    216\u001b[0m     \u001b[39m# message to avoid confusion.\u001b[39;00m\n\u001b[0;32m    217\u001b[0m     msg \u001b[39m=\u001b[39m re\u001b[39m.\u001b[39msub(\n\u001b[0;32m    218\u001b[0m         \u001b[39mr\u001b[39m\u001b[39m\"\u001b[39m\u001b[39mparameter of \u001b[39m\u001b[39m\\\u001b[39m\u001b[39mw+ must be\u001b[39m\u001b[39m\"\u001b[39m,\n\u001b[0;32m    219\u001b[0m         \u001b[39mf\u001b[39m\u001b[39m\"\u001b[39m\u001b[39mparameter of \u001b[39m\u001b[39m{\u001b[39;00mfunc\u001b[39m.\u001b[39m\u001b[39m__qualname__\u001b[39m\u001b[39m}\u001b[39;00m\u001b[39m must be\u001b[39m\u001b[39m\"\u001b[39m,\n\u001b[0;32m    220\u001b[0m         \u001b[39mstr\u001b[39m(e),\n\u001b[0;32m    221\u001b[0m     )\n",
      "File \u001b[1;32mc:\\Users\\Arina\\AppData\\Local\\Programs\\Python\\Python311\\Lib\\site-packages\\sklearn\\metrics\\_classification.py:339\u001b[0m, in \u001b[0;36mconfusion_matrix\u001b[1;34m(y_true, y_pred, labels, sample_weight, normalize)\u001b[0m\n\u001b[0;32m    337\u001b[0m     \u001b[39melif\u001b[39;00m y_true\u001b[39m.\u001b[39msize \u001b[39m==\u001b[39m \u001b[39m0\u001b[39m:\n\u001b[0;32m    338\u001b[0m         \u001b[39mreturn\u001b[39;00m np\u001b[39m.\u001b[39mzeros((n_labels, n_labels), dtype\u001b[39m=\u001b[39m\u001b[39mint\u001b[39m)\n\u001b[1;32m--> 339\u001b[0m     \u001b[39melif\u001b[39;00m \u001b[39mlen\u001b[39m(np\u001b[39m.\u001b[39;49mintersect1d(y_true, labels)) \u001b[39m==\u001b[39m \u001b[39m0\u001b[39m:\n\u001b[0;32m    340\u001b[0m         \u001b[39mraise\u001b[39;00m \u001b[39mValueError\u001b[39;00m(\u001b[39m\"\u001b[39m\u001b[39mAt least one label specified must be in y_true\u001b[39m\u001b[39m\"\u001b[39m)\n\u001b[0;32m    342\u001b[0m \u001b[39mif\u001b[39;00m sample_weight \u001b[39mis\u001b[39;00m \u001b[39mNone\u001b[39;00m:\n",
      "File \u001b[1;32mc:\\Users\\Arina\\AppData\\Local\\Programs\\Python\\Python311\\Lib\\site-packages\\numpy\\lib\\arraysetops.py:455\u001b[0m, in \u001b[0;36mintersect1d\u001b[1;34m(ar1, ar2, assume_unique, return_indices)\u001b[0m\n\u001b[0;32m    453\u001b[0m     aux \u001b[39m=\u001b[39m aux[aux_sort_indices]\n\u001b[0;32m    454\u001b[0m \u001b[39melse\u001b[39;00m:\n\u001b[1;32m--> 455\u001b[0m     aux\u001b[39m.\u001b[39;49msort()\n\u001b[0;32m    457\u001b[0m mask \u001b[39m=\u001b[39m aux[\u001b[39m1\u001b[39m:] \u001b[39m==\u001b[39m aux[:\u001b[39m-\u001b[39m\u001b[39m1\u001b[39m]\n\u001b[0;32m    458\u001b[0m int1d \u001b[39m=\u001b[39m aux[:\u001b[39m-\u001b[39m\u001b[39m1\u001b[39m][mask]\n",
      "\u001b[1;31mTypeError\u001b[0m: '<' not supported between instances of 'int' and 'str'"
     ]
    }
   ],
   "source": [
    "cnf_matrix = confusion_matrix(y_test, yhat, labels=[2,4])\n",
    "np.set_printoptions(precision=2)\n",
    "\n",
    "print (classification_report(y_test, yhat))\n",
    "\n",
    "# Plot non-normalized confusion matrix\n",
    "plt.figure()\n",
    "plot_confusion_matrix(cnf_matrix, classes=['Benign(2)','Malignant(4)'],normalize= False,  title='Confusion matrix')"
   ]
  },
  {
   "cell_type": "code",
   "execution_count": 27,
   "metadata": {},
   "outputs": [
    {
     "data": {
      "text/plain": [
       "0.565354432003349"
      ]
     },
     "execution_count": 27,
     "metadata": {},
     "output_type": "execute_result"
    }
   ],
   "source": [
    "from sklearn.metrics import f1_score\n",
    "f1_score(y_test, yhat, average='weighted') "
   ]
  }
 ],
 "metadata": {
  "kernelspec": {
   "display_name": "Python 3",
   "language": "python",
   "name": "python3"
  },
  "language_info": {
   "codemirror_mode": {
    "name": "ipython",
    "version": 3
   },
   "file_extension": ".py",
   "mimetype": "text/x-python",
   "name": "python",
   "nbconvert_exporter": "python",
   "pygments_lexer": "ipython3",
   "version": "3.11.5"
  }
 },
 "nbformat": 4,
 "nbformat_minor": 2
}
