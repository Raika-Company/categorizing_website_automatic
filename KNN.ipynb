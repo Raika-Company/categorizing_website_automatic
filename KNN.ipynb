{
 "cells": [
  {
   "cell_type": "code",
   "execution_count": 1,
   "metadata": {},
   "outputs": [],
   "source": [
    "import numpy  as np\n",
    "import matplotlib.pyplot as plt\n",
    "import pandas as pd \n",
    "from sklearn import preprocessing\n",
    "from sklearn.model_selection import train_test_split\n",
    "from sklearn.neighbors import KNeighborsClassifier\n",
    "from sklearn import metrics\n",
    "import socket\n",
    "from sklearn.ensemble import RandomForestClassifier\n",
    "from sklearn.metrics import accuracy_score\n",
    "\n",
    "\n",
    "%matplotlib inline"
   ]
  },
  {
   "cell_type": "code",
   "execution_count": 2,
   "metadata": {},
   "outputs": [
    {
     "data": {
      "text/html": [
       "<div>\n",
       "<style scoped>\n",
       "    .dataframe tbody tr th:only-of-type {\n",
       "        vertical-align: middle;\n",
       "    }\n",
       "\n",
       "    .dataframe tbody tr th {\n",
       "        vertical-align: top;\n",
       "    }\n",
       "\n",
       "    .dataframe thead th {\n",
       "        text-align: right;\n",
       "    }\n",
       "</style>\n",
       "<table border=\"1\" class=\"dataframe\">\n",
       "  <thead>\n",
       "    <tr style=\"text-align: right;\">\n",
       "      <th></th>\n",
       "      <th>flow_key</th>\n",
       "      <th>src_ip_numeric</th>\n",
       "      <th>src_ip</th>\n",
       "      <th>src_port</th>\n",
       "      <th>dst_ip</th>\n",
       "      <th>dst_port</th>\n",
       "      <th>proto</th>\n",
       "      <th>pktTotalCount</th>\n",
       "      <th>octetTotalCount</th>\n",
       "      <th>min_ps</th>\n",
       "      <th>...</th>\n",
       "      <th>b_flowEnd</th>\n",
       "      <th>b_flowDuration</th>\n",
       "      <th>b_min_piat</th>\n",
       "      <th>b_max_piat</th>\n",
       "      <th>b_avg_piat</th>\n",
       "      <th>b_std_dev_piat</th>\n",
       "      <th>flowEndReason</th>\n",
       "      <th>category</th>\n",
       "      <th>application_protocol</th>\n",
       "      <th>web_service</th>\n",
       "    </tr>\n",
       "  </thead>\n",
       "  <tbody>\n",
       "    <tr>\n",
       "      <th>0</th>\n",
       "      <td>3acee4f4ea001cd5e6d9584d4036b53d</td>\n",
       "      <td>3232266497</td>\n",
       "      <td>192.168.121.1</td>\n",
       "      <td>67</td>\n",
       "      <td>172.16.255.185</td>\n",
       "      <td>67</td>\n",
       "      <td>17</td>\n",
       "      <td>22</td>\n",
       "      <td>7620</td>\n",
       "      <td>328</td>\n",
       "      <td>...</td>\n",
       "      <td>1.555955e+09</td>\n",
       "      <td>1.554399e+12</td>\n",
       "      <td>0.010354</td>\n",
       "      <td>198.657965</td>\n",
       "      <td>51.689181</td>\n",
       "      <td>84.916348</td>\n",
       "      <td>2</td>\n",
       "      <td>Network</td>\n",
       "      <td>Unknown</td>\n",
       "      <td>DHCP</td>\n",
       "    </tr>\n",
       "    <tr>\n",
       "      <th>1</th>\n",
       "      <td>974ec5991b439c9a7176b88be0c90df0</td>\n",
       "      <td>3232266497</td>\n",
       "      <td>192.168.121.1</td>\n",
       "      <td>67</td>\n",
       "      <td>172.16.255.186</td>\n",
       "      <td>67</td>\n",
       "      <td>17</td>\n",
       "      <td>17</td>\n",
       "      <td>5670</td>\n",
       "      <td>328</td>\n",
       "      <td>...</td>\n",
       "      <td>0.000000e+00</td>\n",
       "      <td>0.000000e+00</td>\n",
       "      <td>0.000000</td>\n",
       "      <td>0.000000</td>\n",
       "      <td>0.000000</td>\n",
       "      <td>0.000000</td>\n",
       "      <td>2</td>\n",
       "      <td>Network</td>\n",
       "      <td>Unknown</td>\n",
       "      <td>DHCP</td>\n",
       "    </tr>\n",
       "    <tr>\n",
       "      <th>2</th>\n",
       "      <td>3acee4f4ea001cd5e6d9584d4036b53d</td>\n",
       "      <td>3232266497</td>\n",
       "      <td>192.168.121.1</td>\n",
       "      <td>67</td>\n",
       "      <td>172.16.255.185</td>\n",
       "      <td>67</td>\n",
       "      <td>17</td>\n",
       "      <td>43</td>\n",
       "      <td>15124</td>\n",
       "      <td>328</td>\n",
       "      <td>...</td>\n",
       "      <td>1.555965e+09</td>\n",
       "      <td>1.554409e+12</td>\n",
       "      <td>0.022332</td>\n",
       "      <td>340.268454</td>\n",
       "      <td>89.927588</td>\n",
       "      <td>124.270745</td>\n",
       "      <td>2</td>\n",
       "      <td>Network</td>\n",
       "      <td>Unknown</td>\n",
       "      <td>DHCP</td>\n",
       "    </tr>\n",
       "    <tr>\n",
       "      <th>3</th>\n",
       "      <td>974ec5991b439c9a7176b88be0c90df0</td>\n",
       "      <td>3232266497</td>\n",
       "      <td>192.168.121.1</td>\n",
       "      <td>67</td>\n",
       "      <td>172.16.255.186</td>\n",
       "      <td>67</td>\n",
       "      <td>17</td>\n",
       "      <td>30</td>\n",
       "      <td>10086</td>\n",
       "      <td>328</td>\n",
       "      <td>...</td>\n",
       "      <td>0.000000e+00</td>\n",
       "      <td>0.000000e+00</td>\n",
       "      <td>0.000000</td>\n",
       "      <td>0.000000</td>\n",
       "      <td>0.000000</td>\n",
       "      <td>0.000000</td>\n",
       "      <td>2</td>\n",
       "      <td>Network</td>\n",
       "      <td>Unknown</td>\n",
       "      <td>DHCP</td>\n",
       "    </tr>\n",
       "    <tr>\n",
       "      <th>4</th>\n",
       "      <td>cfa7c2740072befaa89c202499729e08</td>\n",
       "      <td>3232266497</td>\n",
       "      <td>192.168.121.1</td>\n",
       "      <td>0</td>\n",
       "      <td>10.130.1.166</td>\n",
       "      <td>0</td>\n",
       "      <td>1</td>\n",
       "      <td>1</td>\n",
       "      <td>56</td>\n",
       "      <td>56</td>\n",
       "      <td>...</td>\n",
       "      <td>0.000000e+00</td>\n",
       "      <td>0.000000e+00</td>\n",
       "      <td>0.000000</td>\n",
       "      <td>0.000000</td>\n",
       "      <td>0.000000</td>\n",
       "      <td>0.000000</td>\n",
       "      <td>2</td>\n",
       "      <td>Network</td>\n",
       "      <td>Unknown</td>\n",
       "      <td>ICMP</td>\n",
       "    </tr>\n",
       "  </tbody>\n",
       "</table>\n",
       "<p>5 rows × 50 columns</p>\n",
       "</div>"
      ],
      "text/plain": [
       "                           flow_key  src_ip_numeric         src_ip  src_port  \\\n",
       "0  3acee4f4ea001cd5e6d9584d4036b53d      3232266497  192.168.121.1        67   \n",
       "1  974ec5991b439c9a7176b88be0c90df0      3232266497  192.168.121.1        67   \n",
       "2  3acee4f4ea001cd5e6d9584d4036b53d      3232266497  192.168.121.1        67   \n",
       "3  974ec5991b439c9a7176b88be0c90df0      3232266497  192.168.121.1        67   \n",
       "4  cfa7c2740072befaa89c202499729e08      3232266497  192.168.121.1         0   \n",
       "\n",
       "           dst_ip  dst_port  proto  pktTotalCount  octetTotalCount  min_ps  \\\n",
       "0  172.16.255.185        67     17             22             7620     328   \n",
       "1  172.16.255.186        67     17             17             5670     328   \n",
       "2  172.16.255.185        67     17             43            15124     328   \n",
       "3  172.16.255.186        67     17             30            10086     328   \n",
       "4    10.130.1.166         0      1              1               56      56   \n",
       "\n",
       "   ...     b_flowEnd  b_flowDuration  b_min_piat  b_max_piat  b_avg_piat  \\\n",
       "0  ...  1.555955e+09    1.554399e+12    0.010354  198.657965   51.689181   \n",
       "1  ...  0.000000e+00    0.000000e+00    0.000000    0.000000    0.000000   \n",
       "2  ...  1.555965e+09    1.554409e+12    0.022332  340.268454   89.927588   \n",
       "3  ...  0.000000e+00    0.000000e+00    0.000000    0.000000    0.000000   \n",
       "4  ...  0.000000e+00    0.000000e+00    0.000000    0.000000    0.000000   \n",
       "\n",
       "   b_std_dev_piat  flowEndReason  category  application_protocol  web_service  \n",
       "0       84.916348              2   Network               Unknown         DHCP  \n",
       "1        0.000000              2   Network               Unknown         DHCP  \n",
       "2      124.270745              2   Network               Unknown         DHCP  \n",
       "3        0.000000              2   Network               Unknown         DHCP  \n",
       "4        0.000000              2   Network               Unknown         ICMP  \n",
       "\n",
       "[5 rows x 50 columns]"
      ]
     },
     "execution_count": 2,
     "metadata": {},
     "output_type": "execute_result"
    }
   ],
   "source": [
    "df = pd.read_csv('df2.csv')\n",
    "df.head()"
   ]
  },
  {
   "cell_type": "code",
   "execution_count": 34,
   "metadata": {},
   "outputs": [
    {
     "data": {
      "text/plain": [
       "load_time_ms\n",
       "16968.0    22\n",
       "15380.0    18\n",
       "15342.0    16\n",
       "18091.0    15\n",
       "15236.0    15\n",
       "           ..\n",
       "10341.0     1\n",
       "20331.0     1\n",
       "20581.0     1\n",
       "7571.0      1\n",
       "22423.0     1\n",
       "Name: count, Length: 19587, dtype: int64"
      ]
     },
     "execution_count": 34,
     "metadata": {},
     "output_type": "execute_result"
    }
   ],
   "source": [
    "# df['load_time_ms'].value_counts()"
   ]
  },
  {
   "cell_type": "code",
   "execution_count": 35,
   "metadata": {},
   "outputs": [
    {
     "data": {
      "text/plain": [
       "array([[<Axes: title={'center': 'load_time_ms'}>]], dtype=object)"
      ]
     },
     "execution_count": 35,
     "metadata": {},
     "output_type": "execute_result"
    },
    {
     "data": {
      "image/png": "[encoded data removed]",
      "text/plain": [
       "<Figure size 640x480 with 1 Axes>"
      ]
     },
     "metadata": {},
     "output_type": "display_data"
    }
   ],
   "source": [
    "# df.hist(column='load_time_ms', bins = 50)"
   ]
  },
  {
   "cell_type": "code",
   "execution_count": 5,
   "metadata": {},
   "outputs": [
    {
     "data": {
      "text/plain": [
       "Index(['flow_key', 'src_ip_numeric', 'src_ip', 'src_port', 'dst_ip',\n",
       "       'dst_port', 'proto', 'pktTotalCount', 'octetTotalCount', 'min_ps',\n",
       "       'max_ps', 'avg_ps', 'std_dev_ps', 'flowStart', 'flowEnd',\n",
       "       'flowDuration', 'min_piat', 'max_piat', 'avg_piat', 'std_dev_piat',\n",
       "       'f_pktTotalCount', 'f_octetTotalCount', 'f_min_ps', 'f_max_ps',\n",
       "       'f_avg_ps', 'f_std_dev_ps', 'f_flowStart', 'f_flowEnd',\n",
       "       'f_flowDuration', 'f_min_piat', 'f_max_piat', 'f_avg_piat',\n",
       "       'f_std_dev_piat', 'b_pktTotalCount', 'b_octetTotalCount', 'b_min_ps',\n",
       "       'b_max_ps', 'b_avg_ps', 'b_std_dev_ps', 'b_flowStart', 'b_flowEnd',\n",
       "       'b_flowDuration', 'b_min_piat', 'b_max_piat', 'b_avg_piat',\n",
       "       'b_std_dev_piat', 'flowEndReason', 'category', 'application_protocol',\n",
       "       'web_service'],\n",
       "      dtype='object')"
      ]
     },
     "execution_count": 5,
     "metadata": {},
     "output_type": "execute_result"
    }
   ],
   "source": [
    "df.columns"
   ]
  },
  {
   "cell_type": "code",
   "execution_count": 3,
   "metadata": {},
   "outputs": [],
   "source": [
    "def ip_to_int(ip):\n",
    "    try:\n",
    "        ip_int = int.from_bytes(socket.inet_aton(ip), 'big')\n",
    "        ip_np = np.uint32(ip_int)\n",
    "        return ip_np\n",
    "        # return int(ipaddress.ip.)\n",
    "    except:\n",
    "        return np.nan\n",
    "\n",
    "\n",
    "df['src_ip'] = df['src_ip'].apply(ip_to_int)\n",
    "df[\"dst_ip\"] = df['dst_ip'].apply(ip_to_int)"
   ]
  },
  {
   "cell_type": "code",
   "execution_count": 4,
   "metadata": {},
   "outputs": [
    {
     "data": {
      "text/html": [
       "<div>\n",
       "<style scoped>\n",
       "    .dataframe tbody tr th:only-of-type {\n",
       "        vertical-align: middle;\n",
       "    }\n",
       "\n",
       "    .dataframe tbody tr th {\n",
       "        vertical-align: top;\n",
       "    }\n",
       "\n",
       "    .dataframe thead th {\n",
       "        text-align: right;\n",
       "    }\n",
       "</style>\n",
       "<table border=\"1\" class=\"dataframe\">\n",
       "  <thead>\n",
       "    <tr style=\"text-align: right;\">\n",
       "      <th></th>\n",
       "      <th>src_ip</th>\n",
       "      <th>dst_ip</th>\n",
       "    </tr>\n",
       "  </thead>\n",
       "  <tbody>\n",
       "    <tr>\n",
       "      <th>0</th>\n",
       "      <td>3232266497</td>\n",
       "      <td>2886795193</td>\n",
       "    </tr>\n",
       "    <tr>\n",
       "      <th>1</th>\n",
       "      <td>3232266497</td>\n",
       "      <td>2886795194</td>\n",
       "    </tr>\n",
       "    <tr>\n",
       "      <th>2</th>\n",
       "      <td>3232266497</td>\n",
       "      <td>2886795193</td>\n",
       "    </tr>\n",
       "    <tr>\n",
       "      <th>3</th>\n",
       "      <td>3232266497</td>\n",
       "      <td>2886795194</td>\n",
       "    </tr>\n",
       "    <tr>\n",
       "      <th>4</th>\n",
       "      <td>3232266497</td>\n",
       "      <td>176292262</td>\n",
       "    </tr>\n",
       "    <tr>\n",
       "      <th>...</th>\n",
       "      <td>...</td>\n",
       "      <td>...</td>\n",
       "    </tr>\n",
       "    <tr>\n",
       "      <th>2704834</th>\n",
       "      <td>3232268540</td>\n",
       "      <td>2886795194</td>\n",
       "    </tr>\n",
       "    <tr>\n",
       "      <th>2704835</th>\n",
       "      <td>3232268540</td>\n",
       "      <td>2886795193</td>\n",
       "    </tr>\n",
       "    <tr>\n",
       "      <th>2704836</th>\n",
       "      <td>3232268540</td>\n",
       "      <td>2886795194</td>\n",
       "    </tr>\n",
       "    <tr>\n",
       "      <th>2704837</th>\n",
       "      <td>3232268540</td>\n",
       "      <td>1823542204</td>\n",
       "    </tr>\n",
       "    <tr>\n",
       "      <th>2704838</th>\n",
       "      <td>3232268540</td>\n",
       "      <td>2899906500</td>\n",
       "    </tr>\n",
       "  </tbody>\n",
       "</table>\n",
       "<p>2704839 rows × 2 columns</p>\n",
       "</div>"
      ],
      "text/plain": [
       "             src_ip      dst_ip\n",
       "0        3232266497  2886795193\n",
       "1        3232266497  2886795194\n",
       "2        3232266497  2886795193\n",
       "3        3232266497  2886795194\n",
       "4        3232266497   176292262\n",
       "...             ...         ...\n",
       "2704834  3232268540  2886795194\n",
       "2704835  3232268540  2886795193\n",
       "2704836  3232268540  2886795194\n",
       "2704837  3232268540  1823542204\n",
       "2704838  3232268540  2899906500\n",
       "\n",
       "[2704839 rows x 2 columns]"
      ]
     },
     "execution_count": 4,
     "metadata": {},
     "output_type": "execute_result"
    }
   ],
   "source": [
    "df[['src_ip', 'dst_ip']]"
   ]
  },
  {
   "cell_type": "code",
   "execution_count": 24,
   "metadata": {},
   "outputs": [],
   "source": [
    "# import numpy as np\n",
    "# import socket\n",
    "\n",
    "# ip_int = int.from_bytes(socket.inet_aton(\"192.168.121.1\"), 'big')\n",
    "# ip_np = np.uint32(ip_int)\n",
    "# ip_int"
   ]
  },
  {
   "cell_type": "code",
   "execution_count": 5,
   "metadata": {},
   "outputs": [
    {
     "name": "stdout",
     "output_type": "stream",
     "text": [
      "3232266497\n"
     ]
    }
   ],
   "source": [
    "print(df['src_ip'][0])"
   ]
  },
  {
   "cell_type": "code",
   "execution_count": 31,
   "metadata": {},
   "outputs": [
    {
     "data": {
      "text/html": [
       "<div>\n",
       "<style scoped>\n",
       "    .dataframe tbody tr th:only-of-type {\n",
       "        vertical-align: middle;\n",
       "    }\n",
       "\n",
       "    .dataframe tbody tr th {\n",
       "        vertical-align: top;\n",
       "    }\n",
       "\n",
       "    .dataframe thead th {\n",
       "        text-align: right;\n",
       "    }\n",
       "</style>\n",
       "<table border=\"1\" class=\"dataframe\">\n",
       "  <thead>\n",
       "    <tr style=\"text-align: right;\">\n",
       "      <th></th>\n",
       "      <th>src_ip_numeric</th>\n",
       "      <th>dst_ip</th>\n",
       "      <th>src_port</th>\n",
       "      <th>dst_port</th>\n",
       "      <th>proto</th>\n",
       "      <th>pktTotalCount</th>\n",
       "      <th>octetTotalCount</th>\n",
       "      <th>min_ps</th>\n",
       "      <th>max_ps</th>\n",
       "      <th>avg_ps</th>\n",
       "      <th>...</th>\n",
       "      <th>b_avg_ps</th>\n",
       "      <th>b_std_dev_ps</th>\n",
       "      <th>b_flowStart</th>\n",
       "      <th>b_flowEnd</th>\n",
       "      <th>b_flowDuration</th>\n",
       "      <th>b_min_piat</th>\n",
       "      <th>b_max_piat</th>\n",
       "      <th>b_avg_piat</th>\n",
       "      <th>b_std_dev_piat</th>\n",
       "      <th>flowEndReason</th>\n",
       "    </tr>\n",
       "  </thead>\n",
       "  <tbody>\n",
       "    <tr>\n",
       "      <th>0</th>\n",
       "      <td>3232266497</td>\n",
       "      <td>2886795193</td>\n",
       "      <td>67</td>\n",
       "      <td>67</td>\n",
       "      <td>17</td>\n",
       "      <td>22</td>\n",
       "      <td>7620</td>\n",
       "      <td>328</td>\n",
       "      <td>394</td>\n",
       "      <td>346.363636</td>\n",
       "      <td>...</td>\n",
       "      <td>390.000000</td>\n",
       "      <td>2.000000</td>\n",
       "      <td>1.555955e+09</td>\n",
       "      <td>1.555955e+09</td>\n",
       "      <td>1.554399e+12</td>\n",
       "      <td>0.010354</td>\n",
       "      <td>198.657965</td>\n",
       "      <td>51.689181</td>\n",
       "      <td>84.916348</td>\n",
       "      <td>2</td>\n",
       "    </tr>\n",
       "    <tr>\n",
       "      <th>1</th>\n",
       "      <td>3232266497</td>\n",
       "      <td>2886795194</td>\n",
       "      <td>67</td>\n",
       "      <td>67</td>\n",
       "      <td>17</td>\n",
       "      <td>17</td>\n",
       "      <td>5670</td>\n",
       "      <td>328</td>\n",
       "      <td>354</td>\n",
       "      <td>333.529412</td>\n",
       "      <td>...</td>\n",
       "      <td>0.000000</td>\n",
       "      <td>0.000000</td>\n",
       "      <td>0.000000e+00</td>\n",
       "      <td>0.000000e+00</td>\n",
       "      <td>0.000000e+00</td>\n",
       "      <td>0.000000</td>\n",
       "      <td>0.000000</td>\n",
       "      <td>0.000000</td>\n",
       "      <td>0.000000</td>\n",
       "      <td>2</td>\n",
       "    </tr>\n",
       "    <tr>\n",
       "      <th>2</th>\n",
       "      <td>3232266497</td>\n",
       "      <td>2886795193</td>\n",
       "      <td>67</td>\n",
       "      <td>67</td>\n",
       "      <td>17</td>\n",
       "      <td>43</td>\n",
       "      <td>15124</td>\n",
       "      <td>328</td>\n",
       "      <td>394</td>\n",
       "      <td>351.720930</td>\n",
       "      <td>...</td>\n",
       "      <td>389.384615</td>\n",
       "      <td>1.332347</td>\n",
       "      <td>1.555964e+09</td>\n",
       "      <td>1.555965e+09</td>\n",
       "      <td>1.554409e+12</td>\n",
       "      <td>0.022332</td>\n",
       "      <td>340.268454</td>\n",
       "      <td>89.927588</td>\n",
       "      <td>124.270745</td>\n",
       "      <td>2</td>\n",
       "    </tr>\n",
       "    <tr>\n",
       "      <th>3</th>\n",
       "      <td>3232266497</td>\n",
       "      <td>2886795194</td>\n",
       "      <td>67</td>\n",
       "      <td>67</td>\n",
       "      <td>17</td>\n",
       "      <td>30</td>\n",
       "      <td>10086</td>\n",
       "      <td>328</td>\n",
       "      <td>352</td>\n",
       "      <td>336.200000</td>\n",
       "      <td>...</td>\n",
       "      <td>0.000000</td>\n",
       "      <td>0.000000</td>\n",
       "      <td>0.000000e+00</td>\n",
       "      <td>0.000000e+00</td>\n",
       "      <td>0.000000e+00</td>\n",
       "      <td>0.000000</td>\n",
       "      <td>0.000000</td>\n",
       "      <td>0.000000</td>\n",
       "      <td>0.000000</td>\n",
       "      <td>2</td>\n",
       "    </tr>\n",
       "    <tr>\n",
       "      <th>4</th>\n",
       "      <td>3232266497</td>\n",
       "      <td>176292262</td>\n",
       "      <td>0</td>\n",
       "      <td>0</td>\n",
       "      <td>1</td>\n",
       "      <td>1</td>\n",
       "      <td>56</td>\n",
       "      <td>56</td>\n",
       "      <td>56</td>\n",
       "      <td>56.000000</td>\n",
       "      <td>...</td>\n",
       "      <td>0.000000</td>\n",
       "      <td>0.000000</td>\n",
       "      <td>0.000000e+00</td>\n",
       "      <td>0.000000e+00</td>\n",
       "      <td>0.000000e+00</td>\n",
       "      <td>0.000000</td>\n",
       "      <td>0.000000</td>\n",
       "      <td>0.000000</td>\n",
       "      <td>0.000000</td>\n",
       "      <td>2</td>\n",
       "    </tr>\n",
       "  </tbody>\n",
       "</table>\n",
       "<p>5 rows × 45 columns</p>\n",
       "</div>"
      ],
      "text/plain": [
       "   src_ip_numeric      dst_ip  src_port  dst_port  proto  pktTotalCount  \\\n",
       "0      3232266497  2886795193        67        67     17             22   \n",
       "1      3232266497  2886795194        67        67     17             17   \n",
       "2      3232266497  2886795193        67        67     17             43   \n",
       "3      3232266497  2886795194        67        67     17             30   \n",
       "4      3232266497   176292262         0         0      1              1   \n",
       "\n",
       "   octetTotalCount  min_ps  max_ps      avg_ps  ...    b_avg_ps  b_std_dev_ps  \\\n",
       "0             7620     328     394  346.363636  ...  390.000000      2.000000   \n",
       "1             5670     328     354  333.529412  ...    0.000000      0.000000   \n",
       "2            15124     328     394  351.720930  ...  389.384615      1.332347   \n",
       "3            10086     328     352  336.200000  ...    0.000000      0.000000   \n",
       "4               56      56      56   56.000000  ...    0.000000      0.000000   \n",
       "\n",
       "    b_flowStart     b_flowEnd  b_flowDuration  b_min_piat  b_max_piat  \\\n",
       "0  1.555955e+09  1.555955e+09    1.554399e+12    0.010354  198.657965   \n",
       "1  0.000000e+00  0.000000e+00    0.000000e+00    0.000000    0.000000   \n",
       "2  1.555964e+09  1.555965e+09    1.554409e+12    0.022332  340.268454   \n",
       "3  0.000000e+00  0.000000e+00    0.000000e+00    0.000000    0.000000   \n",
       "4  0.000000e+00  0.000000e+00    0.000000e+00    0.000000    0.000000   \n",
       "\n",
       "   b_avg_piat  b_std_dev_piat  flowEndReason  \n",
       "0   51.689181       84.916348              2  \n",
       "1    0.000000        0.000000              2  \n",
       "2   89.927588      124.270745              2  \n",
       "3    0.000000        0.000000              2  \n",
       "4    0.000000        0.000000              2  \n",
       "\n",
       "[5 rows x 45 columns]"
      ]
     },
     "execution_count": 31,
     "metadata": {},
     "output_type": "execute_result"
    }
   ],
   "source": [
    "#  X = df[['load_time_ms','connect_start','navigation_start','secure_connection_start', 'fetch_start',\n",
    "#        'dom_content_loaded_event_start', 'response_start', 'dom_interactive',\n",
    "#        'domain_lookup_end', 'response_end', 'redirect_start', 'request_start',\n",
    "#        'unload_event_end', 'unload_event_start', 'dom_loading', 'dom_complete',\n",
    "#        'domain_lookup_start', 'load_event_start',\n",
    "#        'dom_content_loaded_event_end', 'load_event_end', 'redirect_end',\n",
    "#        'connect_end', 'host_id','navigate_count', 'reload_count',\n",
    "#        'load_time_ms_avg']].values\n",
    "# X[0:5]\n",
    "X = df[['src_ip_numeric', 'dst_ip', 'src_port',\n",
    "       'dst_port', 'proto', 'pktTotalCount', 'octetTotalCount', 'min_ps',\n",
    "        'max_ps', 'avg_ps', 'std_dev_ps', 'flowStart', 'flowEnd',\n",
    "        'flowDuration', 'min_piat', 'max_piat', 'avg_piat', 'std_dev_piat',\n",
    "        'f_pktTotalCount', 'f_octetTotalCount', 'f_min_ps', 'f_max_ps',\n",
    "        'f_avg_ps', 'f_std_dev_ps', 'f_flowStart', 'f_flowEnd',\n",
    "        'f_flowDuration', 'f_min_piat', 'f_max_piat', 'f_avg_piat',\n",
    "        'f_std_dev_piat', 'b_pktTotalCount', 'b_octetTotalCount', 'b_min_ps',\n",
    "        'b_max_ps', 'b_avg_ps', 'b_std_dev_ps', 'b_flowStart', 'b_flowEnd',\n",
    "        'b_flowDuration', 'b_min_piat', 'b_max_piat', 'b_avg_piat',\n",
    "        'b_std_dev_piat', 'flowEndReason']]\n",
    "# X.dropna()\n",
    "X.head(5)\n",
    "# df.head(5)"
   ]
  },
  {
   "cell_type": "code",
   "execution_count": 34,
   "metadata": {},
   "outputs": [],
   "source": [
    "# y = df[['label']]\n",
    "# y[0:5]\n",
    "y = df[['category', 'application_protocol', 'web_service']]"
   ]
  },
  {
   "cell_type": "code",
   "execution_count": 24,
   "metadata": {},
   "outputs": [],
   "source": [
    "# X = preprocessing.StandardScaler().fit(X).transform(X.astype(float))"
   ]
  },
  {
   "cell_type": "code",
   "execution_count": 32,
   "metadata": {},
   "outputs": [
    {
     "data": {
      "text/plain": [
       "pandas.core.frame.DataFrame"
      ]
     },
     "execution_count": 32,
     "metadata": {},
     "output_type": "execute_result"
    }
   ],
   "source": [
    "# type(y)\n",
    "type(X)"
   ]
  },
  {
   "cell_type": "code",
   "execution_count": 33,
   "metadata": {},
   "outputs": [
    {
     "name": "stdout",
     "output_type": "stream",
     "text": [
      "Train set: (2163871, 45) (2163871, 3)\n",
      "Test set: (540968, 45) (540968, 3)\n"
     ]
    }
   ],
   "source": [
    "X_train, X_test, y_train, y_test = train_test_split(\n",
    "    X, y, test_size=0.2, random_state=40)\n",
    "print(\"Train set:\", X_train.shape, y_train.shape)\n",
    "print(\"Test set:\", X_test.shape, y_test.shape)"
   ]
  },
  {
   "cell_type": "code",
   "execution_count": 38,
   "metadata": {},
   "outputs": [
    {
     "data": {
      "text/html": [
       "<style>#sk-container-id-2 {color: black;}#sk-container-id-2 pre{padding: 0;}#sk-container-id-2 div.sk-toggleable {background-color: white;}#sk-container-id-2 label.sk-toggleable__label {cursor: pointer;display: block;width: 100%;margin-bottom: 0;padding: 0.3em;box-sizing: border-box;text-align: center;}#sk-container-id-2 label.sk-toggleable__label-arrow:before {content: \"▸\";float: left;margin-right: 0.25em;color: #696969;}#sk-container-id-2 label.sk-toggleable__label-arrow:hover:before {color: black;}#sk-container-id-2 div.sk-estimator:hover label.sk-toggleable__label-arrow:before {color: black;}#sk-container-id-2 div.sk-toggleable__content {max-height: 0;max-width: 0;overflow: hidden;text-align: left;background-color: #f0f8ff;}#sk-container-id-2 div.sk-toggleable__content pre {margin: 0.2em;color: black;border-radius: 0.25em;background-color: #f0f8ff;}#sk-container-id-2 input.sk-toggleable__control:checked~div.sk-toggleable__content {max-height: 200px;max-width: 100%;overflow: auto;}#sk-container-id-2 input.sk-toggleable__control:checked~label.sk-toggleable__label-arrow:before {content: \"▾\";}#sk-container-id-2 div.sk-estimator input.sk-toggleable__control:checked~label.sk-toggleable__label {background-color: #d4ebff;}#sk-container-id-2 div.sk-label input.sk-toggleable__control:checked~label.sk-toggleable__label {background-color: #d4ebff;}#sk-container-id-2 input.sk-hidden--visually {border: 0;clip: rect(1px 1px 1px 1px);clip: rect(1px, 1px, 1px, 1px);height: 1px;margin: -1px;overflow: hidden;padding: 0;position: absolute;width: 1px;}#sk-container-id-2 div.sk-estimator {font-family: monospace;background-color: #f0f8ff;border: 1px dotted black;border-radius: 0.25em;box-sizing: border-box;margin-bottom: 0.5em;}#sk-container-id-2 div.sk-estimator:hover {background-color: #d4ebff;}#sk-container-id-2 div.sk-parallel-item::after {content: \"\";width: 100%;border-bottom: 1px solid gray;flex-grow: 1;}#sk-container-id-2 div.sk-label:hover label.sk-toggleable__label {background-color: #d4ebff;}#sk-container-id-2 div.sk-serial::before {content: \"\";position: absolute;border-left: 1px solid gray;box-sizing: border-box;top: 0;bottom: 0;left: 50%;z-index: 0;}#sk-container-id-2 div.sk-serial {display: flex;flex-direction: column;align-items: center;background-color: white;padding-right: 0.2em;padding-left: 0.2em;position: relative;}#sk-container-id-2 div.sk-item {position: relative;z-index: 1;}#sk-container-id-2 div.sk-parallel {display: flex;align-items: stretch;justify-content: center;background-color: white;position: relative;}#sk-container-id-2 div.sk-item::before, #sk-container-id-2 div.sk-parallel-item::before {content: \"\";position: absolute;border-left: 1px solid gray;box-sizing: border-box;top: 0;bottom: 0;left: 50%;z-index: -1;}#sk-container-id-2 div.sk-parallel-item {display: flex;flex-direction: column;z-index: 1;position: relative;background-color: white;}#sk-container-id-2 div.sk-parallel-item:first-child::after {align-self: flex-end;width: 50%;}#sk-container-id-2 div.sk-parallel-item:last-child::after {align-self: flex-start;width: 50%;}#sk-container-id-2 div.sk-parallel-item:only-child::after {width: 0;}#sk-container-id-2 div.sk-dashed-wrapped {border: 1px dashed gray;margin: 0 0.4em 0.5em 0.4em;box-sizing: border-box;padding-bottom: 0.4em;background-color: white;}#sk-container-id-2 div.sk-label label {font-family: monospace;font-weight: bold;display: inline-block;line-height: 1.2em;}#sk-container-id-2 div.sk-label-container {text-align: center;}#sk-container-id-2 div.sk-container {/* jupyter's `normalize.less` sets `[hidden] { display: none; }` but bootstrap.min.css set `[hidden] { display: none !important; }` so we also need the `!important` here to be able to override the default hidden behavior on the sphinx rendered scikit-learn.org. See: https://github.com/scikit-learn/scikit-learn/issues/21755 */display: inline-block !important;position: relative;}#sk-container-id-2 div.sk-text-repr-fallback {display: none;}</style><div id=\"sk-container-id-2\" class=\"sk-top-container\"><div class=\"sk-text-repr-fallback\"><pre>RandomForestClassifier(max_depth=30, max_samples=0.5, n_estimators=30)</pre><b>In a Jupyter environment, please rerun this cell to show the HTML representation or trust the notebook. <br />On GitHub, the HTML representation is unable to render, please try loading this page with nbviewer.org.</b></div><div class=\"sk-container\" hidden><div class=\"sk-item\"><div class=\"sk-estimator sk-toggleable\"><input class=\"sk-toggleable__control sk-hidden--visually\" id=\"sk-estimator-id-2\" type=\"checkbox\" checked><label for=\"sk-estimator-id-2\" class=\"sk-toggleable__label sk-toggleable__label-arrow\">RandomForestClassifier</label><div class=\"sk-toggleable__content\"><pre>RandomForestClassifier(max_depth=30, max_samples=0.5, n_estimators=30)</pre></div></div></div></div></div>"
      ],
      "text/plain": [
       "RandomForestClassifier(max_depth=30, max_samples=0.5, n_estimators=30)"
      ]
     },
     "execution_count": 38,
     "metadata": {},
     "output_type": "execute_result"
    }
   ],
   "source": [
    "# model = RandomForestClassifier()\n",
    "model = RandomForestClassifier(n_estimators=30, max_depth=30, max_samples=0.5)\n",
    "model.fit(X_train, y_train)"
   ]
  },
  {
   "cell_type": "code",
   "execution_count": 39,
   "metadata": {},
   "outputs": [],
   "source": [
    "predictions = model.predict(X_test)"
   ]
  },
  {
   "cell_type": "code",
   "execution_count": 40,
   "metadata": {},
   "outputs": [
    {
     "name": "stdout",
     "output_type": "stream",
     "text": [
      "Accuracy for category: 0.9393272799869863\n",
      "Accuracy for application_protocol: 0.9495182709513317\n",
      "Accuracy for web_service: 0.9053400570828589\n"
     ]
    }
   ],
   "source": [
    "for i, col in enumerate(y_test.columns):\n",
    "    print(\n",
    "        f\"Accuracy for {col}: {accuracy_score(y_test[col], predictions[:, i])}\")"
   ]
  },
  {
   "cell_type": "code",
   "execution_count": 11,
   "metadata": {},
   "outputs": [
    {
     "name": "stderr",
     "output_type": "stream",
     "text": [
      "c:\\Users\\Arina\\AppData\\Local\\Programs\\Python\\Python311\\Lib\\site-packages\\sklearn\\neighbors\\_classification.py:228: DataConversionWarning: A column-vector y was passed when a 1d array was expected. Please change the shape of y to (n_samples,), for example using ravel().\n",
      "  return self._fit(X, y)\n"
     ]
    },
    {
     "data": {
      "text/html": [
       "<style>#sk-container-id-2 {color: black;}#sk-container-id-2 pre{padding: 0;}#sk-container-id-2 div.sk-toggleable {background-color: white;}#sk-container-id-2 label.sk-toggleable__label {cursor: pointer;display: block;width: 100%;margin-bottom: 0;padding: 0.3em;box-sizing: border-box;text-align: center;}#sk-container-id-2 label.sk-toggleable__label-arrow:before {content: \"▸\";float: left;margin-right: 0.25em;color: #696969;}#sk-container-id-2 label.sk-toggleable__label-arrow:hover:before {color: black;}#sk-container-id-2 div.sk-estimator:hover label.sk-toggleable__label-arrow:before {color: black;}#sk-container-id-2 div.sk-toggleable__content {max-height: 0;max-width: 0;overflow: hidden;text-align: left;background-color: #f0f8ff;}#sk-container-id-2 div.sk-toggleable__content pre {margin: 0.2em;color: black;border-radius: 0.25em;background-color: #f0f8ff;}#sk-container-id-2 input.sk-toggleable__control:checked~div.sk-toggleable__content {max-height: 200px;max-width: 100%;overflow: auto;}#sk-container-id-2 input.sk-toggleable__control:checked~label.sk-toggleable__label-arrow:before {content: \"▾\";}#sk-container-id-2 div.sk-estimator input.sk-toggleable__control:checked~label.sk-toggleable__label {background-color: #d4ebff;}#sk-container-id-2 div.sk-label input.sk-toggleable__control:checked~label.sk-toggleable__label {background-color: #d4ebff;}#sk-container-id-2 input.sk-hidden--visually {border: 0;clip: rect(1px 1px 1px 1px);clip: rect(1px, 1px, 1px, 1px);height: 1px;margin: -1px;overflow: hidden;padding: 0;position: absolute;width: 1px;}#sk-container-id-2 div.sk-estimator {font-family: monospace;background-color: #f0f8ff;border: 1px dotted black;border-radius: 0.25em;box-sizing: border-box;margin-bottom: 0.5em;}#sk-container-id-2 div.sk-estimator:hover {background-color: #d4ebff;}#sk-container-id-2 div.sk-parallel-item::after {content: \"\";width: 100%;border-bottom: 1px solid gray;flex-grow: 1;}#sk-container-id-2 div.sk-label:hover label.sk-toggleable__label {background-color: #d4ebff;}#sk-container-id-2 div.sk-serial::before {content: \"\";position: absolute;border-left: 1px solid gray;box-sizing: border-box;top: 0;bottom: 0;left: 50%;z-index: 0;}#sk-container-id-2 div.sk-serial {display: flex;flex-direction: column;align-items: center;background-color: white;padding-right: 0.2em;padding-left: 0.2em;position: relative;}#sk-container-id-2 div.sk-item {position: relative;z-index: 1;}#sk-container-id-2 div.sk-parallel {display: flex;align-items: stretch;justify-content: center;background-color: white;position: relative;}#sk-container-id-2 div.sk-item::before, #sk-container-id-2 div.sk-parallel-item::before {content: \"\";position: absolute;border-left: 1px solid gray;box-sizing: border-box;top: 0;bottom: 0;left: 50%;z-index: -1;}#sk-container-id-2 div.sk-parallel-item {display: flex;flex-direction: column;z-index: 1;position: relative;background-color: white;}#sk-container-id-2 div.sk-parallel-item:first-child::after {align-self: flex-end;width: 50%;}#sk-container-id-2 div.sk-parallel-item:last-child::after {align-self: flex-start;width: 50%;}#sk-container-id-2 div.sk-parallel-item:only-child::after {width: 0;}#sk-container-id-2 div.sk-dashed-wrapped {border: 1px dashed gray;margin: 0 0.4em 0.5em 0.4em;box-sizing: border-box;padding-bottom: 0.4em;background-color: white;}#sk-container-id-2 div.sk-label label {font-family: monospace;font-weight: bold;display: inline-block;line-height: 1.2em;}#sk-container-id-2 div.sk-label-container {text-align: center;}#sk-container-id-2 div.sk-container {/* jupyter's `normalize.less` sets `[hidden] { display: none; }` but bootstrap.min.css set `[hidden] { display: none !important; }` so we also need the `!important` here to be able to override the default hidden behavior on the sphinx rendered scikit-learn.org. See: https://github.com/scikit-learn/scikit-learn/issues/21755 */display: inline-block !important;position: relative;}#sk-container-id-2 div.sk-text-repr-fallback {display: none;}</style><div id=\"sk-container-id-2\" class=\"sk-top-container\"><div class=\"sk-text-repr-fallback\"><pre>KNeighborsClassifier(n_neighbors=9)</pre><b>In a Jupyter environment, please rerun this cell to show the HTML representation or trust the notebook. <br />On GitHub, the HTML representation is unable to render, please try loading this page with nbviewer.org.</b></div><div class=\"sk-container\" hidden><div class=\"sk-item\"><div class=\"sk-estimator sk-toggleable\"><input class=\"sk-toggleable__control sk-hidden--visually\" id=\"sk-estimator-id-2\" type=\"checkbox\" checked><label for=\"sk-estimator-id-2\" class=\"sk-toggleable__label sk-toggleable__label-arrow\">KNeighborsClassifier</label><div class=\"sk-toggleable__content\"><pre>KNeighborsClassifier(n_neighbors=9)</pre></div></div></div></div></div>"
      ],
      "text/plain": [
       "KNeighborsClassifier(n_neighbors=9)"
      ]
     },
     "execution_count": 11,
     "metadata": {},
     "output_type": "execute_result"
    }
   ],
   "source": [
    "k = 9\n",
    "neigh = KNeighborsClassifier(n_neighbors=k).fit(X_train, y_train)\n",
    "neigh"
   ]
  },
  {
   "cell_type": "code",
   "execution_count": 12,
   "metadata": {},
   "outputs": [
    {
     "name": "stdout",
     "output_type": "stream",
     "text": [
      "['slow' 'fast' 'same' 'fast' 'fast' 'same']\n",
      "  label\n",
      "0  same\n",
      "1  same\n",
      "2  same\n",
      "3  same\n",
      "4  same\n",
      "5  same\n"
     ]
    }
   ],
   "source": [
    "yhat = neigh.predict(X_test)\n",
    "print(yhat[0:6])\n",
    "print(y[0:6])"
   ]
  },
  {
   "cell_type": "code",
   "execution_count": 13,
   "metadata": {},
   "outputs": [
    {
     "name": "stdout",
     "output_type": "stream",
     "text": [
      "Train set Accuracy: 0.8868249054007568\n",
      "Test set Accuracy: 0.856003852739726\n"
     ]
    }
   ],
   "source": [
    "print(\"Train set Accuracy:\", metrics.accuracy_score(\n",
    "    y_train, neigh.predict(X_train)))\n",
    "print(\"Test set Accuracy:\", metrics.accuracy_score(y_test, yhat))"
   ]
  },
  {
   "cell_type": "code",
   "execution_count": null,
   "metadata": {},
   "outputs": [],
   "source": [
    "# Ks = 10\n",
    "# mean_acc = np.zeros((Ks-1))\n",
    "# std_acc = np.zeros((Ks-1))\n",
    "\n",
    "# for n in range(1,Ks):\n",
    "\n",
    "#     #Train Model and Predict\n",
    "#     neigh = KNeighborsClassifier(n_neighbors = n).fit(X_train,y_train)\n",
    "#     yhat=neigh.predict(X_test)\n",
    "#     mean_acc[n-1] = metrics.accuracy_score(y_test, yhat)\n",
    "\n",
    "\n",
    "#     std_acc[n-1]=np.std(yhat==y_test)/np.sqrt(yhat.shape[0])\n",
    "\n",
    "# mean_acc"
   ]
  },
  {
   "cell_type": "code",
   "execution_count": 19,
   "metadata": {},
   "outputs": [
    {
     "ename": "AttributeError",
     "evalue": "'numpy.ndarray' object has no attribute 'iloc'",
     "output_type": "error",
     "traceback": [
      "\u001b[1;31m---------------------------------------------------------------------------\u001b[0m",
      "\u001b[1;31mAttributeError\u001b[0m                            Traceback (most recent call last)",
      "\u001b[1;32md:\\Rayka_Company\\Azar\\Work\\ML-Hosseinzade\\KNN.ipynb Cell 14\u001b[0m line \u001b[0;36m1\n\u001b[0;32m     <a href='vscode-notebook-cell:/d%3A/Rayka_Company/Azar/Work/ML-Hosseinzade/KNN.ipynb#X16sZmlsZQ%3D%3D?line=16'>17</a>\u001b[0m \u001b[39mfor\u001b[39;00m i, pred \u001b[39min\u001b[39;00m \u001b[39menumerate\u001b[39m(yhat):\n\u001b[0;32m     <a href='vscode-notebook-cell:/d%3A/Rayka_Company/Azar/Work/ML-Hosseinzade/KNN.ipynb#X16sZmlsZQ%3D%3D?line=17'>18</a>\u001b[0m     \u001b[39mif\u001b[39;00m pred \u001b[39m==\u001b[39m \u001b[39m'\u001b[39m\u001b[39mslow\u001b[39m\u001b[39m'\u001b[39m:\n\u001b[1;32m---> <a href='vscode-notebook-cell:/d%3A/Rayka_Company/Azar/Work/ML-Hosseinzade/KNN.ipynb#X16sZmlsZQ%3D%3D?line=18'>19</a>\u001b[0m         row \u001b[39m=\u001b[39m X_test\u001b[39m.\u001b[39;49miloc[i]\n\u001b[0;32m     <a href='vscode-notebook-cell:/d%3A/Rayka_Company/Azar/Work/ML-Hosseinzade/KNN.ipynb#X16sZmlsZQ%3D%3D?line=19'>20</a>\u001b[0m         causes \u001b[39m=\u001b[39m analyze_causes(row)\n\u001b[0;32m     <a href='vscode-notebook-cell:/d%3A/Rayka_Company/Azar/Work/ML-Hosseinzade/KNN.ipynb#X16sZmlsZQ%3D%3D?line=20'>21</a>\u001b[0m         host_id \u001b[39m=\u001b[39m row[\u001b[39m'\u001b[39m\u001b[39mhost_id\u001b[39m\u001b[39m'\u001b[39m]  \u001b[39m# Assuming 'host_id' is a column in X_test\u001b[39;00m\n",
      "\u001b[1;31mAttributeError\u001b[0m: 'numpy.ndarray' object has no attribute 'iloc'"
     ]
    }
   ],
   "source": [
    "from sklearn.ensemble import RandomForestClassifier\n",
    "# Assume X_train, y_train, X_test are predefined\n",
    "\n",
    "# Step 1: Classification\n",
    "# rf_model = RandomForestClassifier()\n",
    "# rf_model.fit(X_train, y_train)\n",
    "# predictions = rf_model.predict(X_test)\n",
    "\n",
    "# Step 2: Analyze 'slow' connections\n",
    "\n",
    "\n",
    "def analyze_causes(features):\n",
    "    causes = []\n",
    "    load_time_ms_index = ...  # replace with the actual index of 'load_time_ms'\n",
    "    load_time_avg_index = ...  # replace with the index of 'load_time_avg'\n",
    "    host_id_index = ...  # replace with the index of 'host_id'\n",
    "\n",
    "    if features[load_time_ms_index] < features[load_time_avg_index]:\n",
    "        causes.append('low_load_time')\n",
    "    # Add more conditions for other causes\n",
    "    return causes\n",
    "\n",
    "\n",
    "for i, pred in enumerate(yhat):\n",
    "    if pred == 'slow':\n",
    "        features = X_test[i]\n",
    "        causes = analyze_causes(features)\n",
    "        host_id = features[host_id_index]\n",
    "        print(f\"Host ID {host_id} is slow due to: {causes}\")"
   ]
  }
 ],
 "metadata": {
  "kernelspec": {
   "display_name": "Python 3",
   "language": "python",
   "name": "python3"
  },
  "language_info": {
   "codemirror_mode": {
    "name": "ipython",
    "version": 3
   },
   "file_extension": ".py",
   "mimetype": "text/x-python",
   "name": "python",
   "nbconvert_exporter": "python",
   "pygments_lexer": "ipython3",
   "version": "3.11.5"
  }
 },
 "nbformat": 4,
 "nbformat_minor": 2
}
